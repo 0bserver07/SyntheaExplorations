{
 "cells": [
  {
   "cell_type": "code",
   "execution_count": 11,
   "metadata": {},
   "outputs": [],
   "source": [
    "import pandas as pd\n",
    "import json"
   ]
  },
  {
   "cell_type": "code",
   "execution_count": 12,
   "metadata": {},
   "outputs": [],
   "source": [
    "data_path = './data/fhir/'"
   ]
  },
  {
   "cell_type": "code",
   "execution_count": 14,
   "metadata": {},
   "outputs": [],
   "source": [
    "with open(data_path+'Christiane220_Rohan584_a2f36bdd-9d55-4cf7-be48-dfce36d15ed1.json', 'r') as f:\n",
    "     Christiane220_Rohan_json = json.load(f)\n",
    "                \n",
    "with open(data_path+'practitionerInformation1596609857538.json', 'r') as f:\n",
    "     hospitalInformation_json = json.load(f)\n",
    "        \n",
    "with open(data_path+'hospitalInformation1596609857538.json', 'r') as f:\n",
    "     practitionerInformation_json = json.load(f)"
   ]
  },
  {
   "cell_type": "code",
   "execution_count": 19,
   "metadata": {},
   "outputs": [
    {
     "data": {
      "text/plain": [
       "dict_keys(['resourceType', 'type', 'entry'])"
      ]
     },
     "execution_count": 19,
     "metadata": {},
     "output_type": "execute_result"
    }
   ],
   "source": [
    "Christiane220_Rohan_json.keys()"
   ]
  },
  {
   "cell_type": "code",
   "execution_count": 23,
   "metadata": {},
   "outputs": [
    {
     "data": {
      "text/plain": [
       "dict_keys(['fullUrl', 'resource', 'request'])"
      ]
     },
     "execution_count": 23,
     "metadata": {},
     "output_type": "execute_result"
    }
   ],
   "source": [
    "Christiane220_Rohan_json['entry'][0].keys()"
   ]
  },
  {
   "cell_type": "code",
   "execution_count": 26,
   "metadata": {},
   "outputs": [
    {
     "data": {
      "text/plain": [
       "dict_keys(['resourceType', 'id', 'text', 'extension', 'identifier', 'name', 'telecom', 'gender', 'birthDate', 'address', 'maritalStatus', 'multipleBirthBoolean', 'communication'])"
      ]
     },
     "execution_count": 26,
     "metadata": {},
     "output_type": "execute_result"
    }
   ],
   "source": [
    "Christiane220_Rohan_json['entry'][0]['resource'].keys()"
   ]
  },
  {
   "cell_type": "code",
   "execution_count": 27,
   "metadata": {},
   "outputs": [
    {
     "data": {
      "text/plain": [
       "{'address': [{'city': 'Ashfield',\n",
       "   'country': 'US',\n",
       "   'extension': [{'extension': [{'url': 'latitude',\n",
       "       'valueDecimal': 42.50870431875657},\n",
       "      {'url': 'longitude', 'valueDecimal': -72.82083595647217}],\n",
       "     'url': 'http://hl7.org/fhir/StructureDefinition/geolocation'}],\n",
       "   'line': ['880 Fisher Spur'],\n",
       "   'state': 'Massachusetts'}],\n",
       " 'birthDate': '1989-09-10',\n",
       " 'communication': [{'language': {'coding': [{'code': 'en-US',\n",
       "      'display': 'English',\n",
       "      'system': 'urn:ietf:bcp:47'}],\n",
       "    'text': 'English'}}],\n",
       " 'extension': [{'url': 'http://hl7.org/fhir/StructureDefinition/patient-mothersMaidenName',\n",
       "   'valueString': 'Delta800 Johns824'},\n",
       "  {'url': 'http://hl7.org/fhir/StructureDefinition/patient-birthPlace',\n",
       "   'valueAddress': {'city': 'Mansfield',\n",
       "    'country': 'US',\n",
       "    'state': 'Massachusetts'}},\n",
       "  {'url': 'http://synthetichealth.github.io/synthea/disability-adjusted-life-years',\n",
       "   'valueDecimal': 0.12188858974977328},\n",
       "  {'url': 'http://synthetichealth.github.io/synthea/quality-adjusted-life-years',\n",
       "   'valueDecimal': 29.878111410250227}],\n",
       " 'gender': 'female',\n",
       " 'id': 'a2f36bdd-9d55-4cf7-be48-dfce36d15ed1',\n",
       " 'identifier': [{'system': 'https://github.com/synthetichealth/synthea',\n",
       "   'value': 'a2f36bdd-9d55-4cf7-be48-dfce36d15ed1'},\n",
       "  {'system': 'http://hospital.smarthealthit.org',\n",
       "   'type': {'coding': [{'code': 'MR',\n",
       "      'display': 'Medical Record Number',\n",
       "      'system': 'http://terminology.hl7.org/CodeSystem/v2-0203'}],\n",
       "    'text': 'Medical Record Number'},\n",
       "   'value': 'a2f36bdd-9d55-4cf7-be48-dfce36d15ed1'},\n",
       "  {'system': 'http://hl7.org/fhir/sid/us-ssn',\n",
       "   'type': {'coding': [{'code': 'SS',\n",
       "      'display': 'Social Security Number',\n",
       "      'system': 'http://terminology.hl7.org/CodeSystem/v2-0203'}],\n",
       "    'text': 'Social Security Number'},\n",
       "   'value': '999-71-8895'},\n",
       "  {'system': 'urn:oid:2.16.840.1.113883.4.3.25',\n",
       "   'type': {'coding': [{'code': 'DL',\n",
       "      'display': \"Driver's License\",\n",
       "      'system': 'http://terminology.hl7.org/CodeSystem/v2-0203'}],\n",
       "    'text': \"Driver's License\"},\n",
       "   'value': 'S99945609'},\n",
       "  {'system': 'http://standardhealthrecord.org/fhir/StructureDefinition/passportNumber',\n",
       "   'type': {'coding': [{'code': 'PPN',\n",
       "      'display': 'Passport Number',\n",
       "      'system': 'http://terminology.hl7.org/CodeSystem/v2-0203'}],\n",
       "    'text': 'Passport Number'},\n",
       "   'value': 'X30236452X'}],\n",
       " 'maritalStatus': {'coding': [{'code': 'M',\n",
       "    'display': 'M',\n",
       "    'system': 'http://terminology.hl7.org/CodeSystem/v3-MaritalStatus'}],\n",
       "  'text': 'M'},\n",
       " 'multipleBirthBoolean': False,\n",
       " 'name': [{'family': 'Rohan584',\n",
       "   'given': ['Christiane220'],\n",
       "   'prefix': ['Mrs.'],\n",
       "   'use': 'official'},\n",
       "  {'family': 'Toy286',\n",
       "   'given': ['Christiane220'],\n",
       "   'prefix': ['Mrs.'],\n",
       "   'use': 'maiden'}],\n",
       " 'resourceType': 'Patient',\n",
       " 'telecom': [{'system': 'phone', 'use': 'home', 'value': '555-166-1163'}],\n",
       " 'text': {'div': '<div xmlns=\"http://www.w3.org/1999/xhtml\">Generated by <a href=\"https://github.com/synthetichealth/synthea\">Synthea</a>.Version identifier: master-branch-latest\\n .   Person seed: -5885330367992840309  Population seed: 1596609855852</div>',\n",
       "  'status': 'generated'}}"
      ]
     },
     "execution_count": 27,
     "metadata": {},
     "output_type": "execute_result"
    }
   ],
   "source": [
    "Christiane220_Rohan_json['entry'][0]['resource']"
   ]
  },
  {
   "cell_type": "code",
   "execution_count": null,
   "metadata": {},
   "outputs": [],
   "source": []
  },
  {
   "cell_type": "code",
   "execution_count": 17,
   "metadata": {},
   "outputs": [
    {
     "data": {
      "text/plain": [
       "dict_keys(['resourceType', 'type', 'entry'])"
      ]
     },
     "execution_count": 17,
     "metadata": {},
     "output_type": "execute_result"
    }
   ],
   "source": [
    "hospitalInformation_json.keys()"
   ]
  },
  {
   "cell_type": "code",
   "execution_count": 18,
   "metadata": {},
   "outputs": [
    {
     "data": {
      "text/plain": [
       "dict_keys(['resourceType', 'type', 'entry'])"
      ]
     },
     "execution_count": 18,
     "metadata": {},
     "output_type": "execute_result"
    }
   ],
   "source": [
    "practitionerInformation_json.keys()"
   ]
  },
  {
   "cell_type": "code",
   "execution_count": null,
   "metadata": {},
   "outputs": [],
   "source": []
  },
  {
   "cell_type": "code",
   "execution_count": null,
   "metadata": {},
   "outputs": [],
   "source": []
  },
  {
   "cell_type": "code",
   "execution_count": 4,
   "metadata": {},
   "outputs": [],
   "source": [
    "Christiane220_Rohan_df = pd.read_json('./data/fhir/Christiane220_Rohan584_a2f36bdd-9d55-4cf7-be48-dfce36d15ed1.json')\n",
    "\n",
    "hospitalInformation_df = pd.read_json('./data/fhir/hospitalInformation1596609857538.json')\n",
    "practitionerInformation_df = pd.read_json('./data/fhir/practitionerInformation1596609857538.json')\n"
   ]
  },
  {
   "cell_type": "code",
   "execution_count": 7,
   "metadata": {},
   "outputs": [
    {
     "data": {
      "text/html": [
       "<div>\n",
       "<style scoped>\n",
       "    .dataframe tbody tr th:only-of-type {\n",
       "        vertical-align: middle;\n",
       "    }\n",
       "\n",
       "    .dataframe tbody tr th {\n",
       "        vertical-align: top;\n",
       "    }\n",
       "\n",
       "    .dataframe thead th {\n",
       "        text-align: right;\n",
       "    }\n",
       "</style>\n",
       "<table border=\"1\" class=\"dataframe\">\n",
       "  <thead>\n",
       "    <tr style=\"text-align: right;\">\n",
       "      <th></th>\n",
       "      <th>resourceType</th>\n",
       "      <th>type</th>\n",
       "      <th>entry</th>\n",
       "    </tr>\n",
       "  </thead>\n",
       "  <tbody>\n",
       "    <tr>\n",
       "      <th>0</th>\n",
       "      <td>Bundle</td>\n",
       "      <td>transaction</td>\n",
       "      <td>{'fullUrl': 'urn:uuid:a2f36bdd-9d55-4cf7-be48-...</td>\n",
       "    </tr>\n",
       "    <tr>\n",
       "      <th>1</th>\n",
       "      <td>Bundle</td>\n",
       "      <td>transaction</td>\n",
       "      <td>{'fullUrl': 'urn:uuid:49318f80-bd8b-3fc7-a096-...</td>\n",
       "    </tr>\n",
       "    <tr>\n",
       "      <th>2</th>\n",
       "      <td>Bundle</td>\n",
       "      <td>transaction</td>\n",
       "      <td>{'fullUrl': 'urn:uuid:e7fad7ae-a34f-3679-80b6-...</td>\n",
       "    </tr>\n",
       "    <tr>\n",
       "      <th>3</th>\n",
       "      <td>Bundle</td>\n",
       "      <td>transaction</td>\n",
       "      <td>{'fullUrl': 'urn:uuid:c510a0ad-8ce3-4126-a36f-...</td>\n",
       "    </tr>\n",
       "    <tr>\n",
       "      <th>4</th>\n",
       "      <td>Bundle</td>\n",
       "      <td>transaction</td>\n",
       "      <td>{'fullUrl': 'urn:uuid:ed55ebf5-e3ab-4fb2-b3db-...</td>\n",
       "    </tr>\n",
       "  </tbody>\n",
       "</table>\n",
       "</div>"
      ],
      "text/plain": [
       "  resourceType         type                                              entry\n",
       "0       Bundle  transaction  {'fullUrl': 'urn:uuid:a2f36bdd-9d55-4cf7-be48-...\n",
       "1       Bundle  transaction  {'fullUrl': 'urn:uuid:49318f80-bd8b-3fc7-a096-...\n",
       "2       Bundle  transaction  {'fullUrl': 'urn:uuid:e7fad7ae-a34f-3679-80b6-...\n",
       "3       Bundle  transaction  {'fullUrl': 'urn:uuid:c510a0ad-8ce3-4126-a36f-...\n",
       "4       Bundle  transaction  {'fullUrl': 'urn:uuid:ed55ebf5-e3ab-4fb2-b3db-..."
      ]
     },
     "execution_count": 7,
     "metadata": {},
     "output_type": "execute_result"
    }
   ],
   "source": [
    "Christiane220_Rohan_df.head()"
   ]
  },
  {
   "cell_type": "code",
   "execution_count": null,
   "metadata": {},
   "outputs": [],
   "source": []
  }
 ],
 "metadata": {
  "kernelspec": {
   "display_name": "Python 3",
   "language": "python",
   "name": "python3"
  },
  "language_info": {
   "codemirror_mode": {
    "name": "ipython",
    "version": 3
   },
   "file_extension": ".py",
   "mimetype": "text/x-python",
   "name": "python",
   "nbconvert_exporter": "python",
   "pygments_lexer": "ipython3",
   "version": "3.6.7"
  }
 },
 "nbformat": 4,
 "nbformat_minor": 2
}
